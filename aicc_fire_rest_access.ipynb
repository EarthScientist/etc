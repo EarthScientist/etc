{
 "cells": [
  {
   "cell_type": "markdown",
   "metadata": {},
   "source": [
    "This notebook shows how to access data from the [AICC](http://fire.ak.blm.gov/predsvcs/maps.php)[Current Fire Data](http://afs.ak.blm.gov/arcgis/rest/services/MapAndFeatureServices/CurrentFiresService/MapServer) [ESRI REST services](http://resources.arcgis.com/en/help/rest/apiref/).  The goal is to access the data pertaining to the fire perimeters and the centroid point locations of all fires of the season (2016) and the current active fires.\n",
    "\n",
    "\n",
    "#### install dependencies:\n",
    "\n",
    "    pip install requests\n",
    "    "
   ]
  },
  {
   "cell_type": "markdown",
   "metadata": {},
   "source": [
    "#### Read in the FireData class:"
   ]
  },
  {
   "cell_type": "code",
   "execution_count": 1,
   "metadata": {
    "collapsed": false
   },
   "outputs": [],
   "source": [
    "class FireData( object ):\n",
    "\tdef __init__( self, baseurl, *args, **kwargs ):\n",
    "\t\t'''\n",
    "\t\treturn fire data from ESRI REST services at AICC\n",
    "\n",
    "\t\tARGUMENTS:\n",
    "\t\t----------\n",
    "\t\tbaseurl = [str] url to the base ESRI REST service.\n",
    "\n",
    "\t\t** for AICC holdings an example is as follows:\n",
    "\t\t'http://afs.ak.blm.gov/arcgis/rest/services/MapAndFeatureServices/\\n\n",
    "\t\t\t\t\tCurrentFiresService/MapServer'\n",
    "\t\tRETURNS:\n",
    "\t\t--------\n",
    "\t\tobject of type FireData containing the following attributes:\n",
    "\t\t[ baseurl, layers, queryurl, dat, fields, meta, json ]\n",
    "\n",
    "\t\t'''\n",
    "\t\tself.baseurl = baseurl\n",
    "\t\tself.layers = self._discover_layers()\n",
    "\t\tself.queryurl = None\n",
    "\t\tself.dat = None\n",
    "\t\tself.fields = None\n",
    "\t\tself.meta = None\n",
    "\t\tself.json = None\n",
    "\n",
    "\tdef _discover_layers( self ):\n",
    "\t\t''' \n",
    "\t\treturn a dict of the available layers and their identifiers.\n",
    "\t\tthis is useful for the discovery of what layer id's to use in\n",
    "\t\tFireData.get_data( )\n",
    "\t\t'''\n",
    "\t\tr = requests.get( self.baseurl + '/'+ 'layers', params={'f':'pjson'} )\n",
    "\t\treturn { i['id']:i['name'] for i in r.json()[ 'layers' ] }\n",
    "\tdef get_meta( self, layerid=0, params={'f':'pjson'} ):\n",
    "\t\t'''\n",
    "\t\treturn layer metadata including FIELDS which is useful for \n",
    "\t\tcrafting the `outFields` {'key':'value'} pair which will tell\n",
    "\t\tthe service what fields to return. There can be an abundance.\n",
    "\n",
    "\t\tARGUMENTS:\n",
    "\t\t----------\n",
    "\t\tlayerid = [int] id of the layer to select from. default:0\n",
    "\t\tparams = [dict] default:{'f':'pjson'} which tells to \n",
    "\t\t\t\t\treturn as json.  \n",
    "\n",
    "\t\tRETURNS:\n",
    "\t\t--------\n",
    "\t\tself.meta and self.fields, where self.meta has all metadata as json\n",
    "\t\tabout the layer being queried and self fields containing a list of dicts\n",
    "\t\tcontaining attributes of the fields.\n",
    "\n",
    "\t\t'''\n",
    "\t\tpath = '/'.join([ self.baseurl, str( layerid ) ])\n",
    "\t\tr = requests.get( path,  params=params )\n",
    "\t\tself.meta = r.json()\n",
    "\t\tself.fields = r.json()[ 'fields' ]\n",
    "\tdef get_data( self, layerid=0, params={'where':''}, crs=3572 ):\n",
    "\t\t'''\n",
    "\t\tmake a request to the AICC REST services with a query dict of \n",
    "\t\t{key:value} pairs of search parameters.  \n",
    "\n",
    "\t\tARGUMENTS:\n",
    "\t\t----------\n",
    "\t\tlayerid = [int] id of the layer to select from\n",
    "\t\tparams = [dict] dict of {'key':'value'} pairs of search parameters\n",
    "\t\t\t\t\tto pass to the REST service.\n",
    "\t\tcrs = [int] EPSG code for the reference system to return the data in.\n",
    "\n",
    "\t\tRETURNS:\n",
    "\t\t--------\n",
    "\t\tself.dat & self.json where .dat is the returned `requests` get object\n",
    "\t\tand .json is the dat.json() helper.\n",
    "\n",
    "\t\t'''\n",
    "\t\tpath = '/'.join([ self.baseurl, str( layerid ), 'query' ])\n",
    "\t\tr = requests.get( path, params=params )\n",
    "\t\tself.dat = r\n",
    "\t\tself.json = self.dat.json()"
   ]
  },
  {
   "cell_type": "code",
   "execution_count": 2,
   "metadata": {
    "collapsed": true
   },
   "outputs": [],
   "source": [
    "import requests, subprocess, json"
   ]
  },
  {
   "cell_type": "markdown",
   "metadata": {},
   "source": [
    "Setup variables for the baseurl of the mapserver.\n",
    "The ESRI REST url standard for the service: `http://<catalog-url>/<serviceName>/MapServer`"
   ]
  },
  {
   "cell_type": "code",
   "execution_count": 3,
   "metadata": {
    "collapsed": true
   },
   "outputs": [],
   "source": [
    "baseurl = 'http://afs.ak.blm.gov/arcgis/rest/services/MapAndFeatureServices/CurrentFiresService/MapServer'"
   ]
  },
  {
   "cell_type": "markdown",
   "metadata": {},
   "source": [
    "following the [available REST search parameters](http://resources.arcgis.com/en/help/rest/apiref/query.html) provided by the ESRI service, we build a dictionary of {key:value} pairs for each.  We only really *need* to give a `'where'` and the `'f':'pjson'` to tell the service what to grab and how to return the results.  \n",
    "\n",
    "Many of these options that are not being used can be left out of this dictionary, as they have defaults, or they default to None and are not used in the query. "
   ]
  },
  {
   "cell_type": "code",
   "execution_count": 4,
   "metadata": {
    "collapsed": true
   },
   "outputs": [],
   "source": [
    "QUERY = {'where' : '',\n",
    "        'text' : '',\n",
    "        'objectIds' : '',\n",
    "        'time' : '',\n",
    "        'geometry' : '',\n",
    "        'geometryType' : 'esriGeometryEnvelope',\n",
    "        'inSR' : '',\n",
    "        'spatialRel' : 'esriSpatialRelIntersects',\n",
    "        'relationParam' : '',\n",
    "        'outFields' : '*',\n",
    "        'returnGeometry' : 'true',\n",
    "        'maxAllowableOffset' : '',\n",
    "        'geometryPrecision' : '',\n",
    "        'outSR' : '',\n",
    "        'returnIdsOnly' : 'false',\n",
    "        'returnCountOnly' : 'false',\n",
    "        'orderByFields' : '',\n",
    "        'groupByFieldsForStatistics' : '',\n",
    "        'outStatistics' : '',\n",
    "        'returnZ' : 'false',\n",
    "        'returnM' : 'false',\n",
    "        'gdbVersion' : '',\n",
    "        'returnDistinctValues' : 'false',\n",
    "        'returnTrueCurves' : 'false',\n",
    "        'resultOffset' : '',\n",
    "        'resultRecordCount' : '',\n",
    "        'f' : 'pjson' }\n"
   ]
  },
  {
   "cell_type": "markdown",
   "metadata": {},
   "source": [
    "Now lets instantiate the `FireData` object using the `baseurl` variable from above"
   ]
  },
  {
   "cell_type": "code",
   "execution_count": 5,
   "metadata": {
    "collapsed": false
   },
   "outputs": [],
   "source": [
    "f = FireData( baseurl )"
   ]
  },
  {
   "cell_type": "markdown",
   "metadata": {},
   "source": [
    "What layers are available from this service and what are the numeric identifiers?\n",
    "\n",
    "the following method call returns a `dict` of `int` identifiers of the layers as the keys and the string names as the values."
   ]
  },
  {
   "cell_type": "code",
   "execution_count": 6,
   "metadata": {
    "collapsed": false
   },
   "outputs": [
    {
     "data": {
      "text/plain": [
       "{0: u'Active Fires',\n",
       " 1: u'Active Fire Perimeters',\n",
       " 2: u'All of This Years Fires',\n",
       " 3: u'All of This Years Fire Perimeters'}"
      ]
     },
     "execution_count": 6,
     "metadata": {},
     "output_type": "execute_result"
    }
   ],
   "source": [
    "f.layers"
   ]
  },
  {
   "cell_type": "markdown",
   "metadata": {},
   "source": [
    "In this example we want to return all of the available fire perimeters for this season.  For some reason as of late, there are no active fire perimeters available through these queries.  There _are_ some small polygon perimeters returned from the `All of This Years Fire Perimeters` layer and I am going to query for these in hopes that new data begin to populate this server.\n",
    "\n",
    "Now that we know what layer we want, lets set a `layerid` variable with the `int` key for that layer"
   ]
  },
  {
   "cell_type": "code",
   "execution_count": 7,
   "metadata": {
    "collapsed": true
   },
   "outputs": [],
   "source": [
    "layerid = 3"
   ]
  },
  {
   "cell_type": "markdown",
   "metadata": {},
   "source": [
    "Lets get the metadata related to the layer we are interested in which also has information about the fields available for query and for returning with the returned JSON object.  "
   ]
  },
  {
   "cell_type": "code",
   "execution_count": 8,
   "metadata": {
    "collapsed": false
   },
   "outputs": [
    {
     "name": "stdout",
     "output_type": "stream",
     "text": [
      "[u'FIRESADMIN.Fire_perimeters.OBJECTID', u'FIRESADMIN.Fire_perimeters.NAME', u'FIRESADMIN.Fire_perimeters.RECORDNUMBER', u'FIRESADMIN.Fire_perimeters.ACRES', u'FIRESADMIN.Fire_perimeters.AFSNUMBER', u'FIRESADMIN.Fire_perimeters.DOFNUMBER', u'FIRESADMIN.Fire_perimeters.USFSNUMBER', u'FIRESADMIN.Fire_perimeters.ADDNUMBER', u'FIRESADMIN.Fire_perimeters.PERIMETERDATE', u'FIRESADMIN.Fire_perimeters.LATESTPERIMETER', u'FIRESADMIN.Fire_perimeters.SOURCE', u'FIRESADMIN.Fire_perimeters.SOURCEMETHOD', u'FIRESADMIN.Fire_perimeters.SOURCECLASS', u'FIRESADMIN.Fire_perimeters.AGENCYACRES', u'FIRESADMIN.Fire_perimeters.ACREAGEMETHOD', u'FIRESADMIN.Fire_perimeters.COMMENTS', u'FIRESADMIN.Fire_perimeters.FIREID', u'FIRESADMIN.Fire_perimeters.FIREYEAR', u'FIRESADMIN.Fire_perimeters.UPDATETIME', u'FIRESADMIN.Fire_perimeters.UPDATEUSER', u'FIRESADMIN.Fire_perimeters.USEDONFINALREPORT', u'FIRESADMIN.Fire_perimeters.SHAPE', u'SHAPE.AREA', u'SHAPE.LEN', u'FIRESADMIN.Fire.OBJECTID', u'FIRESADMIN.Fire.ID', u'FIRESADMIN.Fire.NAME', u'FIRESADMIN.Fire.FIRESEASON', u'FIRESADMIN.Fire.LASTUPDATETIME', u'FIRESADMIN.Fire.MGMTORGID', u'FIRESADMIN.Fire.MGMTOFFICEID', u'FIRESADMIN.Fire.MGMTOPTIONID', u'FIRESADMIN.Fire.PRESCRIBEDFIRE', u'FIRESADMIN.Fire.LATITUDE', u'FIRESADMIN.Fire.LONGITUDE', u'FIRESADMIN.Fire.MAPNAME', u'FIRESADMIN.Fire.MAPNUMBER', u'FIRESADMIN.Fire.NEARESTWEATHERSTA', u'FIRESADMIN.Fire.ORIGINOWNERID', u'FIRESADMIN.Fire.ORIGINADMINUNITID', u'FIRESADMIN.Fire.DISCOVERYDATETIME', u'FIRESADMIN.Fire.DISCOVERYSIZE', u'FIRESADMIN.Fire.IADATETIME', u'FIRESADMIN.Fire.IASIZE', u'FIRESADMIN.Fire.INITIALBEHAVIOR', u'FIRESADMIN.Fire.CONTROLDATETIME', u'FIRESADMIN.Fire.OUTDATE', u'FIRESADMIN.Fire.ESTIMATEDTOTALACRES', u'FIRESADMIN.Fire.ACTUALTOTALACRES', u'FIRESADMIN.Fire.ESTIMATEDTOTALCOST', u'FIRESADMIN.Fire.GENERALCAUSE', u'FIRESADMIN.Fire.SPECIFICCAUSE', u'FIRESADMIN.Fire.ORIGINSLOPE', u'FIRESADMIN.Fire.ORIGINASPECT', u'FIRESADMIN.Fire.ORIGINELEVATION', u'FIRESADMIN.Fire.ORIGINTOWNSHIP', u'FIRESADMIN.Fire.ORIGINRANGE', u'FIRESADMIN.Fire.ORIGINSECTION', u'FIRESADMIN.Fire.ORIGINQUARTER', u'FIRESADMIN.Fire.ORIGINMERIDIAN', u'FIRESADMIN.Fire.STRUCTURESTHREATENED', u'FIRESADMIN.Fire.STRUCTURESBURNED', u'FIRESADMIN.Fire.PRIMARYFUELTYPE', u'FIRESADMIN.Fire.HARDCOPYREPORTAVAILABLE', u'FIRESADMIN.Fire.TYPE1ASSIGNEDDATE', u'FIRESADMIN.Fire.TYPE1RELEASEDDATE', u'FIRESADMIN.Fire.TYPE2ASSIGNEDDATE', u'FIRESADMIN.Fire.TYPE2RELEASEDDATE', u'FIRESADMIN.Fire.AFSNUMBER', u'FIRESADMIN.Fire.DOFNUMBER', u'FIRESADMIN.Fire.USFSNUMBER', u'FIRESADMIN.Fire.ADDITIONALNUMBER', u'FIRESADMIN.Fire.FALSEALARM', u'FIRESADMIN.Fire.FORCESITRPT', u'FIRESADMIN.Fire.FORCESITRPTSTATUS', u'FIRESADMIN.Fire.RECORDNUMBER', u'FIRESADMIN.Fire.COMPLEX', u'FIRESADMIN.Fire.IMPORT_NOTES', u'FIRESADMIN.Fire.WFUFIRE', u'FIRESADMIN.Fire.REPORTRECEIVEDDATE', u'FIRESADMIN.Fire.ISCOMPLEX', u'FIRESADMIN.Fire.CARRYOVER', u'FIRESADMIN.Fire.STATEADSID', u'FIRESADMIN.Fire.ORIGINAL_LATITUDE', u'FIRESADMIN.Fire.ORIGINAL_LONGITUDE', u'FIRESADMIN.Fire.IRWINID', u'FIRESADMIN.Fire.ISACTIVE', u'FIRESADMIN.Fire.SUPPRESSIONSTRATEGY', u'FIRESADMIN.Fire.FIREMGMTCOMPLEXITY', u'FIRESADMIN.Fire.ADSPERMISSIONSTATE', u'FIRESADMIN.Fire.OWNERKIND', u'FIRESADMIN.Fire.FIRECODEREQUESTED', u'FIRESADMIN.Fire.ISREIMBURSABLE', u'FIRESADMIN.Fire.ISFSASSISTED', u'FIRESADMIN.Fire.ISTRESPASS', u'FIRESADMIN.Fire.FIRECODENOTES', u'FIRESADMIN.Fire.CONTAINMENTDATETIME', u'FIRESADMIN.Fire.CONFLICTIRWINID', u'FIRESADMIN.Fire.COMPLEXPARENTIRWINID', u'FIRESADMIN.Fire.BURNEDOVER', u'FIRESADMIN.Fire.BURNEDOVERBY']\n"
     ]
    }
   ],
   "source": [
    "# this will populate the f.meta attribute of the current FireData object\n",
    "f.get_meta( layerid=layerid )\n",
    "\n",
    "# print out the name key for each of the fields elements in the returned list.\n",
    "print [ i['name'] for i in f.meta['fields'] ]\n"
   ]
  },
  {
   "cell_type": "markdown",
   "metadata": {},
   "source": [
    "Now we know the available fields and that there is one with the name `'FIRESADMIN.Fire.FIRESEASON'` which we can use to query for this years perimeters.\n"
   ]
  },
  {
   "cell_type": "code",
   "execution_count": 14,
   "metadata": {
    "collapsed": true
   },
   "outputs": [],
   "source": [
    "whereclause = \"FIRESADMIN.Fire_perimeters.FIREYEAR='2016'\"\n",
    "\n",
    "# add it to the QUERY dict using update\n",
    "QUERY.update( whereclause=whereclause )"
   ]
  },
  {
   "cell_type": "markdown",
   "metadata": {},
   "source": [
    "now lets return the JSON we want relating to this query."
   ]
  },
  {
   "cell_type": "code",
   "execution_count": 10,
   "metadata": {
    "collapsed": true
   },
   "outputs": [],
   "source": [
    "f.get_data( layerid, QUERY )\n",
    "\n",
    "# write the json to disk\n",
    "with open( './this_years_perimeters.json', 'w' ) as out_json:\n",
    "    out_json.write( json.dumps( f.json ) )\n"
   ]
  },
  {
   "cell_type": "code",
   "execution_count": 11,
   "metadata": {
    "collapsed": true
   },
   "outputs": [],
   "source": [
    "# OR we can use the url generated by requests to issue a system command using subprocess\n",
    "output_filename = out_json.name.replace( '.json', '.shp' )\n",
    "_ = subprocess.call([ 'ogr2ogr', '-overwrite', output_filename, out_json.name ])"
   ]
  },
  {
   "cell_type": "markdown",
   "metadata": {},
   "source": [
    "It is important to note that due to the very long field names, ogr2ogr has truncated field names and added a sequential number to make each field unique.  This is not so useful, so we should try to mess with that a bit more for a clean shapefile output.\n"
   ]
  },
  {
   "cell_type": "code",
   "execution_count": null,
   "metadata": {
    "collapsed": true
   },
   "outputs": [],
   "source": []
  }
 ],
 "metadata": {
  "kernelspec": {
   "display_name": "Python 2",
   "language": "python",
   "name": "python2"
  },
  "language_info": {
   "codemirror_mode": {
    "name": "ipython",
    "version": 2
   },
   "file_extension": ".py",
   "mimetype": "text/x-python",
   "name": "python",
   "nbconvert_exporter": "python",
   "pygments_lexer": "ipython2",
   "version": "2.7.10"
  }
 },
 "nbformat": 4,
 "nbformat_minor": 0
}
